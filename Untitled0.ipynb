{
  "nbformat": 4,
  "nbformat_minor": 0,
  "metadata": {
    "colab": {
      "name": "Untitled0.ipynb",
      "provenance": [],
      "mount_file_id": "1qoFv4xzNXnU-4J-UDAw68q1C8hVLThG9",
      "authorship_tag": "ABX9TyMSX+C2ehqyQNOyFBeTJ6KZ",
      "include_colab_link": true
    },
    "kernelspec": {
      "name": "python3",
      "display_name": "Python 3"
    },
    "language_info": {
      "name": "python"
    }
  },
  "cells": [
    {
      "cell_type": "markdown",
      "metadata": {
        "id": "view-in-github",
        "colab_type": "text"
      },
      "source": [
        "<a href=\"https://colab.research.google.com/github/adrianvh33/Population-Selection-paper/blob/main/Untitled0.ipynb\" target=\"_parent\"><img src=\"https://colab.research.google.com/assets/colab-badge.svg\" alt=\"Open In Colab\"/></a>"
      ]
    },
    {
      "cell_type": "code",
      "execution_count": 192,
      "metadata": {
        "id": "PQ1_sD8qn_G7"
      },
      "outputs": [],
      "source": [
        "import numpy as np\n",
        "from sklearn.svm import SVC\n",
        "from sklearn.metrics import classification_report\n",
        "from sklearn.metrics import accuracy_score\n",
        "import pickle\n",
        "from copy import deepcopy\n",
        "from operator import itemgetter\n"
      ]
    },
    {
      "cell_type": "markdown",
      "source": [
        "# Distance score"
      ],
      "metadata": {
        "id": "HnqjMcAGpHdQ"
      }
    },
    {
      "cell_type": "code",
      "source": [
        "'''\n",
        "Calcula la distancia entre dos muestras\n",
        "'''\n",
        "def calDistance(v1,v2):\n",
        "  distance = np.linalg.norm(np.array(v1)-np.array(v2))\n",
        "  return distance"
      ],
      "metadata": {
        "id": "u34jhxuW6oXI"
      },
      "execution_count": 193,
      "outputs": []
    },
    {
      "cell_type": "code",
      "source": [
        "'''\n",
        "Se toma un punto y se compara su distancia con la de su propia clase\n",
        "luego se compara con la de todas las otras clases\n",
        "Se toma la distancia a la clase mas cercana \n",
        "Se calcula la anchura con la clase mas cercana\n",
        "\n",
        "newSample, es una nueva  muestra\n",
        "label es la clase de la muestra\n",
        "CurrentSamples es una lista de lista de todas las muestras.\n",
        "'''\n",
        "def individualSil(newSample,label,CurrentSamples):\n",
        "  # Se calcula la distancia intra clase\n",
        "  # Se toma la muestra y se le calcula la distancia con cada uno de los puntos de su clase, y se obtine la distancia promedio\n",
        "  averageDistanceIntraClass = 0\n",
        "  label = int(label)\n",
        "  for sample in CurrentSamples[label]:\n",
        "    temp = calDistance(newSample[:-1],sample[:-1])\n",
        "    averageDistanceIntraClass += temp\n",
        "  averageDistanceIntraClass = averageDistanceIntraClass/(len(CurrentSamples[label]))\n",
        "\n",
        "  # Se calcula la distacia promedio con las otras classe y se toma la mas pequeña\n",
        "  \n",
        "  tempL=[]\n",
        "  for i,samples in enumerate(CurrentSamples):\n",
        "    averageDistanceExtraClass = 0\n",
        "    if i == label:\n",
        "      continue\n",
        "    for sample in samples:\n",
        "      temp = calDistance(newSample[:-1],sample[:-1])\n",
        "      averageDistanceExtraClass += temp\n",
        "    averageDistanceExtraClass = averageDistanceExtraClass/(len(samples))\n",
        "    tempL.append(averageDistanceExtraClass)\n",
        "  averageDistanceExtraClass = min(tempL)\n",
        "\n",
        "  if (averageDistanceIntraClass<averageDistanceExtraClass):\n",
        "    silhouetteWidth = 1 - (averageDistanceIntraClass/averageDistanceExtraClass)\n",
        "  if (averageDistanceIntraClass== averageDistanceExtraClass):\n",
        "    silhouetteWidth = 0\n",
        "  if (averageDistanceIntraClass > averageDistanceExtraClass):\n",
        "    silhouetteWidth = (averageDistanceExtraClass/averageDistanceIntraClass) - 1\n",
        "  return silhouetteWidth\n"
      ],
      "metadata": {
        "id": "v4udbIY_pFSd"
      },
      "execution_count": 194,
      "outputs": []
    },
    {
      "cell_type": "code",
      "source": [
        "'''\n",
        "Se calcula el silhouette Width de todas las clases y se les agrega a la ultima columna\n",
        "Se toma el valor promedio de  silhouette Width de cada clase \n",
        "se crean clases mas pequenas con los datos que tienen un valor por debajo del promedio\n",
        "se retorna todas las clases reducidas pero con las misma cantidade de muestras en cada una.\n",
        "'''\n",
        "def getInitialSeed(data):\n",
        "  listSilhouetteWidth = []\n",
        "  data2 = deepcopy(data)\n",
        "  for classSample in data2:\n",
        "    temp = []\n",
        "    for sample in classSample:\n",
        "      silhouetteWidth = individualSil(sample,sample[-1],data2)\n",
        "      temp.append(silhouetteWidth)\n",
        "    listSilhouetteWidth.append(temp)\n",
        "\n",
        "  for i,classSample in enumerate(data2):\n",
        "    for j,sample in enumerate(classSample):\n",
        "      sample.append(listSilhouetteWidth[i][j])\n",
        "  averageSW = []  \n",
        "  for SWL in listSilhouetteWidth:\n",
        "    averageSW.append(sum(SWL)/len(SWL))\n",
        "\n",
        "  shortData = []\n",
        "  for i,classSample in enumerate(data2):\n",
        "    temp = []\n",
        "    for sample in classSample:\n",
        "      if sample[-1] >= averageSW[i]:\n",
        "        temp.append(sample)\n",
        "    shortData.append(temp)\n",
        "  lenghtList = []\n",
        "  for row in shortData:\n",
        "    lenghtList.append(len(row))\n",
        "  minLen = min(lenghtList)\n",
        "  print(lenghtList)\n",
        "  shortData = sorted(shortData, key=itemgetter(-1))\n",
        "  result = []\n",
        "  for row in shortData:\n",
        "    result.append(row[:minLen])\n",
        "  return result"
      ],
      "metadata": {
        "id": "cI9pFXHEE_e0"
      },
      "execution_count": 195,
      "outputs": []
    },
    {
      "cell_type": "code",
      "source": [
        "with open('/content/drive/MyDrive/Colab Notebooks/caracteristicas para datos medicos/preprocessedData.pickle', 'rb') as f:\n",
        "    data = pickle.load(f)\n",
        "\n",
        "# se obtinen las clases\n",
        "labels = set()\n",
        "for row in data:\n",
        "  labels.add(row[-1])\n",
        "\n",
        "splitData = []\n",
        "# se separan lo datos por clases y se renombran las clases\n",
        "i = 0\n",
        "for label in labels:\n",
        "  temp = []\n",
        "  for row in data:\n",
        "    if label == row[-1]:\n",
        "      temp.append(row)\n",
        "  splitData.append(temp)\n",
        "\n",
        "splitData2 = []\n",
        "for row in splitData:\n",
        "  if len(row)  >= 13:\n",
        "    splitData2.append(row)\n",
        "\n",
        "for i,classD in enumerate(splitData2):\n",
        "  for sample in classD:\n",
        "    sample[-1]=i\n",
        "\n",
        "\n"
      ],
      "metadata": {
        "id": "9gw-r0Ne8KaP"
      },
      "execution_count": 196,
      "outputs": []
    },
    {
      "cell_type": "code",
      "source": [
        "new = getInitialSeed(splitData2)\n",
        "\n"
      ],
      "metadata": {
        "colab": {
          "base_uri": "https://localhost:8080/"
        },
        "id": "pS1Fs0q_8T5k",
        "outputId": "01d660b4-1b45-4a10-ad13-35757db66a76"
      },
      "execution_count": 197,
      "outputs": [
        {
          "output_type": "stream",
          "name": "stdout",
          "text": [
            "[126, 21, 9, 9, 6, 13, 24, 13]\n"
          ]
        }
      ]
    },
    {
      "cell_type": "code",
      "source": [
        "for data in new:\n",
        "  print(len(data))"
      ],
      "metadata": {
        "colab": {
          "base_uri": "https://localhost:8080/"
        },
        "id": "E70sHWCCZl0q",
        "outputId": "f108ffee-2ba9-451a-dd6d-bf4c7e156b00"
      },
      "execution_count": 198,
      "outputs": [
        {
          "output_type": "stream",
          "name": "stdout",
          "text": [
            "6\n",
            "6\n",
            "6\n",
            "6\n",
            "6\n",
            "6\n",
            "6\n",
            "6\n"
          ]
        }
      ]
    }
  ]
}